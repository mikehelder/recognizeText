{
 "cells": [
  {
   "cell_type": "markdown",
   "metadata": {},
   "source": [
    "https://westus.dev.cognitive.microsoft.com/docs/services/56f91f2d778daf23d8ec6739/operations/587f2c6a154055056008f200\n",
    "\n",
    "https://nordicapis.com/digitize-your-notes-with-microsoft-vision-api/\n",
    "\n",
    "https://stackoverflow.com/questions/44126333/python-method-to-upload-an-image-to-microsoft-cognitive-vision-from-local-machin"
   ]
  },
  {
   "cell_type": "code",
   "execution_count": 1,
   "metadata": {},
   "outputs": [],
   "source": [
    "import http.client, urllib.request, urllib.parse, urllib.error, base64, requests, time, json  \n",
    "import os\n",
    "import re\n",
    "from shutil import copy\n",
    "from dotenv import load_dotenv"
   ]
  },
  {
   "cell_type": "code",
   "execution_count": 2,
   "metadata": {},
   "outputs": [],
   "source": [
    "#import environment variables\n",
    "load_dotenv()\n",
    "ENDPOINT = os.getenv('ENDPOINT')\n",
    "API_KEY = os.getenv('API_KEY')"
   ]
  },
  {
   "cell_type": "code",
   "execution_count": 3,
   "metadata": {},
   "outputs": [],
   "source": [
    "params = {'handwriting' : 'true'}"
   ]
  },
  {
   "cell_type": "markdown",
   "metadata": {},
   "source": [
    "### when request via uploaded file"
   ]
  },
  {
   "cell_type": "code",
   "execution_count": 4,
   "metadata": {},
   "outputs": [],
   "source": [
    "# when request via url\n",
    "headers = {  \n",
    "    # Request headers.  \n",
    "    # Another valid content type is \"application/octet-stream\".  \n",
    "    'Content-Type': 'application/octet-stream',  \n",
    "    'Ocp-Apim-Subscription-Key': API_KEY,  \n",
    "}\n"
   ]
  },
  {
   "cell_type": "code",
   "execution_count": 5,
   "metadata": {},
   "outputs": [],
   "source": [
    "dirpath_input = '../../data/source/images/'\n",
    "dirpath_output = '../../data/converted/'"
   ]
  },
  {
   "cell_type": "code",
   "execution_count": 6,
   "metadata": {},
   "outputs": [],
   "source": [
    "def write_to_textfile(dirpath_output, lines, filename):\n",
    "    \"\"\"\n",
    "    Write recognitionResult to text file \n",
    "    \"\"\"\n",
    "    image_converted = open(\"{0}{1}.txt\".format(dirpath_output,filename),\"w+\")\n",
    "    for line in lines:\n",
    "        text=line['text']\n",
    "        image_converted.write(text+ '\\n')\n",
    "    image_converted.close()"
   ]
  },
  {
   "cell_type": "code",
   "execution_count": 7,
   "metadata": {},
   "outputs": [],
   "source": [
    "for i in range(len(os.listdir(dirpath_input))):\n",
    "    # get image_filename with and without extension\n",
    "    img_filename = os.listdir(dirpath_input)[i]\n",
    "    filename = re.split(r\"\\b\\.\", img_filename)[0]\n",
    "    \n",
    "    #read image\n",
    "    with open(dirpath_input+img_filename, 'rb') as f:\n",
    "        img_data = f.read()\n",
    "    \n",
    "    # request from uploaded file\n",
    "    response = requests.request('POST',\n",
    "                                ENDPOINT+ '/RecognizeText',\n",
    "                                data=img_data,\n",
    "                                headers=headers,\n",
    "                                params=params)\n",
    "    \n",
    "    # Display JSON data and exit if the REST API call was not successful.\n",
    "    if response.status_code != 202:\n",
    "        parsed = json.loads(response.text)  \n",
    "        print (\"Error at iteration {0}, filename {1}:\".format(i,img_filename))  \n",
    "        print (json.dumps(parsed, sort_keys=True, indent=2))  \n",
    "        exit()\n",
    "        \n",
    "    # grab the 'Operation-Location' from the response\n",
    "    operationLocation = response.headers['Operation-Location']\n",
    "    \n",
    "    # Waiting 10 seconds to retrieve the recognized text')  \n",
    "    time.sleep(10)\n",
    "    \n",
    "    # Execute the second REST API call and get the response.\n",
    "    response = requests.request('GET', \n",
    "                                operationLocation, \n",
    "                                json=None, \n",
    "                                data=None, \n",
    "                                headers=headers, \n",
    "                                params=None)\n",
    "     \n",
    "    # The following formats the JSON data for display.  \n",
    "    parsed = json.loads(response.text)\n",
    "    lines = parsed['recognitionResult']['lines']\n",
    "    \n",
    "    # new folder name \n",
    "    new_folder = dirpath_output+filename+'/'\n",
    "    \n",
    "    # if folder already exists delete folder and files\n",
    "    if os.path.exists(new_folder):\n",
    "        os.rmdir(new_folder)\n",
    "    # make new folder\n",
    "    os.makedirs(new_folder)\n",
    "\n",
    "    # write results to textfile in new folder\n",
    "    write_to_textfile(new_folder, lines, filename)\n",
    "\n",
    "    # copy image to new_folder\n",
    "    copy(dirpath_input+img_filename, new_folder)\n",
    "    \n"
   ]
  }
 ],
 "metadata": {
  "kernelspec": {
   "display_name": "Python 3",
   "language": "python",
   "name": "python3"
  },
  "language_info": {
   "codemirror_mode": {
    "name": "ipython",
    "version": 3
   },
   "file_extension": ".py",
   "mimetype": "text/x-python",
   "name": "python",
   "nbconvert_exporter": "python",
   "pygments_lexer": "ipython3",
   "version": "3.6.9"
  }
 },
 "nbformat": 4,
 "nbformat_minor": 2
}
