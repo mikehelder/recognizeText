{
 "cells": [
  {
   "cell_type": "markdown",
   "metadata": {},
   "source": [
    "https://westus.dev.cognitive.microsoft.com/docs/services/56f91f2d778daf23d8ec6739/operations/587f2c6a154055056008f200\n",
    "\n",
    "https://nordicapis.com/digitize-your-notes-with-microsoft-vision-api/\n",
    "\n",
    "https://stackoverflow.com/questions/44126333/python-method-to-upload-an-image-to-microsoft-cognitive-vision-from-local-machin"
   ]
  },
  {
   "cell_type": "code",
   "execution_count": 1,
   "metadata": {},
   "outputs": [],
   "source": [
    "import http.client, urllib.request, urllib.parse, urllib.error, base64, requests, time, json  \n",
    "import os\n",
    "import re\n",
    "from shutil import copy\n",
    "from dotenv import load_dotenv"
   ]
  },
  {
   "cell_type": "code",
   "execution_count": 9,
   "metadata": {},
   "outputs": [],
   "source": [
    "#import environment variables\n",
    "load_dotenv()\n",
    "ENDPOINT = os.getenv('ENDPOINT')\n",
    "API_KEY = os.getenv('API_KEY')"
   ]
  },
  {
   "cell_type": "code",
   "execution_count": 3,
   "metadata": {},
   "outputs": [],
   "source": [
    "params = {'handwriting' : 'true'}"
   ]
  },
  {
   "cell_type": "markdown",
   "metadata": {},
   "source": [
    "### when request via uploaded file"
   ]
  },
  {
   "cell_type": "code",
   "execution_count": 4,
   "metadata": {},
   "outputs": [],
   "source": [
    "# when request via url\n",
    "headers = {  \n",
    "    # Request headers.  \n",
    "    # Another valid content type is \"application/octet-stream\".  \n",
    "    'Content-Type': 'application/octet-stream',  \n",
    "    'Ocp-Apim-Subscription-Key': api_key,  \n",
    "}\n"
   ]
  },
  {
   "cell_type": "code",
   "execution_count": 5,
   "metadata": {},
   "outputs": [],
   "source": [
    "dirpath_input = '../../data/source/'\n",
    "dirpath_output = '../../data/converted/'"
   ]
  },
  {
   "cell_type": "code",
   "execution_count": 6,
   "metadata": {},
   "outputs": [],
   "source": [
    "def write_to_textfile(dirpath_output, lines, filename):\n",
    "    \"\"\"\n",
    "    Write recognitionResult to text file \n",
    "    \"\"\"\n",
    "    image_converted = open(\"{0}{1}.txt\".format(dirpath_output,filename),\"w+\")\n",
    "    for line in lines:\n",
    "        text=line['text']\n",
    "        image_converted.write(text+ '\\n')\n",
    "    image_converted.close()"
   ]
  },
  {
   "cell_type": "code",
   "execution_count": 7,
   "metadata": {},
   "outputs": [
    {
     "name": "stdout",
     "output_type": "stream",
     "text": [
      "Error at iteration 29, filename 00000824-VIDEO-2017-08-12-05-57-28.mp4:\n",
      "{\n",
      "  \"error\": {\n",
      "    \"code\": \"InvalidImage\",\n",
      "    \"message\": \"Input data is not a valid image.\"\n",
      "  }\n",
      "}\n"
     ]
    },
    {
     "ename": "KeyError",
     "evalue": "'operation-location'",
     "output_type": "error",
     "traceback": [
      "\u001b[0;31m---------------------------------------------------------------------------\u001b[0m",
      "\u001b[0;31mKeyError\u001b[0m                                  Traceback (most recent call last)",
      "\u001b[0;32m<ipython-input-7-262ca0fcdd93>\u001b[0m in \u001b[0;36m<module>\u001b[0;34m\u001b[0m\n\u001b[1;32m     23\u001b[0m \u001b[0;34m\u001b[0m\u001b[0m\n\u001b[1;32m     24\u001b[0m     \u001b[0;31m# grab the 'Operation-Location' from the response\u001b[0m\u001b[0;34m\u001b[0m\u001b[0;34m\u001b[0m\u001b[0;34m\u001b[0m\u001b[0m\n\u001b[0;32m---> 25\u001b[0;31m     \u001b[0moperationLocation\u001b[0m \u001b[0;34m=\u001b[0m \u001b[0mresponse\u001b[0m\u001b[0;34m.\u001b[0m\u001b[0mheaders\u001b[0m\u001b[0;34m[\u001b[0m\u001b[0;34m'Operation-Location'\u001b[0m\u001b[0;34m]\u001b[0m\u001b[0;34m\u001b[0m\u001b[0;34m\u001b[0m\u001b[0m\n\u001b[0m\u001b[1;32m     26\u001b[0m \u001b[0;34m\u001b[0m\u001b[0m\n\u001b[1;32m     27\u001b[0m     \u001b[0;31m# Waiting 10 seconds to retrieve the recognized text')\u001b[0m\u001b[0;34m\u001b[0m\u001b[0;34m\u001b[0m\u001b[0;34m\u001b[0m\u001b[0m\n",
      "\u001b[0;32m~/.local/share/virtualenvs/recognizeText-L-fuEDe5/lib/python3.6/site-packages/requests/structures.py\u001b[0m in \u001b[0;36m__getitem__\u001b[0;34m(self, key)\u001b[0m\n\u001b[1;32m     50\u001b[0m \u001b[0;34m\u001b[0m\u001b[0m\n\u001b[1;32m     51\u001b[0m     \u001b[0;32mdef\u001b[0m \u001b[0m__getitem__\u001b[0m\u001b[0;34m(\u001b[0m\u001b[0mself\u001b[0m\u001b[0;34m,\u001b[0m \u001b[0mkey\u001b[0m\u001b[0;34m)\u001b[0m\u001b[0;34m:\u001b[0m\u001b[0;34m\u001b[0m\u001b[0;34m\u001b[0m\u001b[0m\n\u001b[0;32m---> 52\u001b[0;31m         \u001b[0;32mreturn\u001b[0m \u001b[0mself\u001b[0m\u001b[0;34m.\u001b[0m\u001b[0m_store\u001b[0m\u001b[0;34m[\u001b[0m\u001b[0mkey\u001b[0m\u001b[0;34m.\u001b[0m\u001b[0mlower\u001b[0m\u001b[0;34m(\u001b[0m\u001b[0;34m)\u001b[0m\u001b[0;34m]\u001b[0m\u001b[0;34m[\u001b[0m\u001b[0;36m1\u001b[0m\u001b[0;34m]\u001b[0m\u001b[0;34m\u001b[0m\u001b[0;34m\u001b[0m\u001b[0m\n\u001b[0m\u001b[1;32m     53\u001b[0m \u001b[0;34m\u001b[0m\u001b[0m\n\u001b[1;32m     54\u001b[0m     \u001b[0;32mdef\u001b[0m \u001b[0m__delitem__\u001b[0m\u001b[0;34m(\u001b[0m\u001b[0mself\u001b[0m\u001b[0;34m,\u001b[0m \u001b[0mkey\u001b[0m\u001b[0;34m)\u001b[0m\u001b[0;34m:\u001b[0m\u001b[0;34m\u001b[0m\u001b[0;34m\u001b[0m\u001b[0m\n",
      "\u001b[0;31mKeyError\u001b[0m: 'operation-location'"
     ]
    }
   ],
   "source": [
    "for i in range(len(os.listdir(dirpath_input))):\n",
    "    # get image_filename with and without extension\n",
    "    img_filename = os.listdir(dirpath_input)[i]\n",
    "    filename = re.split(r\"\\b\\.\", img_filename)[0]\n",
    "    \n",
    "    #read image\n",
    "    with open(dirpath_input+img_filename, 'rb') as f:\n",
    "        img_data = f.read()\n",
    "    \n",
    "    # request from uploaded file\n",
    "    response = requests.request('POST',\n",
    "                                endpoint+ '/RecognizeText',\n",
    "                                data=img_data,\n",
    "                                headers=headers,\n",
    "                                params=params)\n",
    "    \n",
    "    # Display JSON data and exit if the REST API call was not successful.\n",
    "    if response.status_code != 202:\n",
    "        parsed = json.loads(response.text)  \n",
    "        print (\"Error at iteration {0}, filename {1}:\".format(i,img_filename))  \n",
    "        print (json.dumps(parsed, sort_keys=True, indent=2))  \n",
    "        exit()\n",
    "        \n",
    "    # grab the 'Operation-Location' from the response\n",
    "    operationLocation = response.headers['Operation-Location']\n",
    "    \n",
    "    # Waiting 10 seconds to retrieve the recognized text')  \n",
    "    time.sleep(10)\n",
    "    \n",
    "    # Execute the second REST API call and get the response.\n",
    "    response = requests.request('GET', \n",
    "                                operationLocation, \n",
    "                                json=None, \n",
    "                                data=None, \n",
    "                                headers=headers, \n",
    "                                params=None)\n",
    "     \n",
    "    # The following formats the JSON data for display.  \n",
    "    parsed = json.loads(response.text)\n",
    "    lines = parsed['recognitionResult']['lines']\n",
    "    \n",
    "    # new folder name \n",
    "    new_folder = dirpath_output+filename+'/'\n",
    "    \n",
    "    # if folder already exists delete folder and files\n",
    "    if os.path.exists(new_folder):\n",
    "        os.rmdir(new_folder)\n",
    "    # make new folder\n",
    "    os.makedirs(new_folder)\n",
    "\n",
    "    # write results to textfile in new folder\n",
    "    write_to_textfile(new_folder, lines, filename)\n",
    "\n",
    "    # copy image to new_folder\n",
    "    copy(dirpath_input+img_filename, new_folder)\n",
    "    \n"
   ]
  },
  {
   "cell_type": "code",
   "execution_count": null,
   "metadata": {},
   "outputs": [],
   "source": []
  }
 ],
 "metadata": {
  "kernelspec": {
   "display_name": "Python 3",
   "language": "python",
   "name": "python3"
  },
  "language_info": {
   "codemirror_mode": {
    "name": "ipython",
    "version": 3
   },
   "file_extension": ".py",
   "mimetype": "text/x-python",
   "name": "python",
   "nbconvert_exporter": "python",
   "pygments_lexer": "ipython3",
   "version": "3.6.9"
  }
 },
 "nbformat": 4,
 "nbformat_minor": 2
}
